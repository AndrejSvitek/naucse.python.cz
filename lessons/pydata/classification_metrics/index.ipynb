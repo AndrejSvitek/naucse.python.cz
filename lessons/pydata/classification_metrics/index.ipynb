{
 "cells": [
  {
   "cell_type": "markdown",
   "metadata": {},
   "source": [
    "# Klasifikační metriky "
   ]
  },
  {
   "cell_type": "markdown",
   "metadata": {},
   "source": [
    "Úloha klasifikace je trochu jiná, než úloha regrese, proto má své vlastní metody na posuzování úspěšnosti modelů. \n",
    "Projdeme nejdůležitější metriky určené pro klasifikaci.\n"
   ]
  },
  {
   "cell_type": "markdown",
   "metadata": {},
   "source": [
    "Abychom mohli metriky rovnou ilustrovat na příkladu, vezměme si na pomoc známou datovou množinu Iris.\n",
    "Jedná se o klasifikaci květů kostatců, datová množina obsahuje tři třídy Setosa, Versicolor a Virginica.\n",
    "\n",
    "![iris_data](static/iris_data.png)\n",
    "\n",
    "Cílem úlohy je vytvořit model -- klasifikátor, který nám pro dané hodnoty kalištních a okvětních lístků vrátí správné zařazení daného vzorku do třídy.\n",
    "\n",
    "(Data tentokrát nečteme ze souboru, ale použijeme předpřipravená dat z modulu datasets knihovny Scikit-learn). "
   ]
  },
  {
   "cell_type": "code",
   "execution_count": 1,
   "metadata": {},
   "outputs": [],
   "source": [
    "from  sklearn import  datasets\n",
    "from sklearn.model_selection import train_test_split\n",
    "from sklearn.tree import DecisionTreeClassifier\n",
    "\n",
    "iris = datasets.load_iris()   # načteme si data, Iris data jsou \"vestavěná\"\n",
    "X = iris.data                 # příznaky \n",
    "y = iris.target               # třídy (labely)\n",
    "\n",
    "\n",
    "# rozdělme data na trénovací a testovací \n",
    "# random_state určuje inicializaci generátoru náhodných čísel (chceme aby nám to vždy vyšlo stejně) \n",
    "X_train, X_test, y_train, y_test = train_test_split(X, y, test_size=.2, random_state=314)\n",
    "\n",
    "# vytvořme klasifikátor \n",
    "klasifikator = DecisionTreeClassifier(random_state=314)\n",
    "\n",
    "# natrénujeme a ohodnotíme testovací množinu \n",
    "klasifikator.fit(X_train,y_train)\n",
    "y_pred = klasifikator.predict(X_test)"
   ]
  },
  {
   "cell_type": "markdown",
   "metadata": {},
   "source": [
    "Podívejme se, jak predikce vypadají."
   ]
  },
  {
   "cell_type": "code",
   "execution_count": 2,
   "metadata": {},
   "outputs": [
    {
     "name": "stdout",
     "output_type": "stream",
     "text": [
      "Příznaky:            Predikovaná třída:  Skutečná třída:\n",
      "--------------------------------------------------------\n",
      "[5.2 4.1 1.5 0.1]     0                   0                  OK\n",
      "[5.8 2.7 5.1 1.9]     2                   2                  OK\n",
      "[4.8 3.  1.4 0.1]     0                   0                  OK\n",
      "[4.7 3.2 1.3 0.2]     0                   0                  OK\n",
      "[6.3 2.3 4.4 1.3]     1                   1                  OK\n",
      "[5.7 2.8 4.5 1.3]     1                   1                  OK\n",
      "[5.8 2.8 5.1 2.4]     2                   2                  OK\n",
      "[5.1 3.3 1.7 0.5]     0                   0                  OK\n",
      "[6.  2.7 5.1 1.6]     2                   1                  :(\n",
      "[5.6 2.9 3.6 1.3]     1                   1                  OK\n",
      "[6.3 2.9 5.6 1.8]     2                   2                  OK\n",
      "[6.3 3.3 6.  2.5]     2                   2                  OK\n",
      "[6.  2.9 4.5 1.5]     1                   1                  OK\n",
      "[5.6 2.7 4.2 1.3]     1                   1                  OK\n",
      "[7.1 3.  5.9 2.1]     2                   2                  OK\n",
      "[7.2 3.  5.8 1.6]     1                   2                  :(\n",
      "[6.1 2.8 4.7 1.2]     1                   1                  OK\n",
      "[5.5 2.3 4.  1.3]     1                   1                  OK\n",
      "[6.  2.2 4.  1. ]     1                   1                  OK\n",
      "[5.7 2.9 4.2 1.3]     1                   1                  OK\n",
      "[5.9 3.2 4.8 1.8]     2                   1                  :(\n",
      "[4.8 3.1 1.6 0.2]     0                   0                  OK\n",
      "[7.7 2.8 6.7 2. ]     2                   2                  OK\n",
      "[5.6 2.8 4.9 2. ]     2                   2                  OK\n",
      "[5.7 4.4 1.5 0.4]     0                   0                  OK\n",
      "[7.7 3.8 6.7 2.2]     2                   2                  OK\n",
      "[5.8 2.6 4.  1.2]     1                   1                  OK\n",
      "[6.2 2.9 4.3 1.3]     1                   1                  OK\n",
      "[6.4 2.8 5.6 2.1]     2                   2                  OK\n",
      "[4.6 3.2 1.4 0.2]     0                   0                  OK\n"
     ]
    }
   ],
   "source": [
    "print(\"Příznaky:            Predikovaná třída:  Skutečná třída:\")\n",
    "print(\"--------------------------------------------------------\")\n",
    "for priznaky, trida_pred, trida_skut in zip(X_test, y_pred, y_test):\n",
    "    print(priznaky, \"   \", trida_pred, \"                 \", trida_skut, \n",
    "          \"                \", \"OK\" if trida_pred == trida_skut else \":(\")"
   ]
  },
  {
   "cell_type": "markdown",
   "metadata": {},
   "source": [
    "Nejjednodušší co můžeme měřit je procento správných odpovědí. Tomu se říká **accuracy**. "
   ]
  },
  {
   "cell_type": "code",
   "execution_count": 3,
   "metadata": {},
   "outputs": [
    {
     "data": {
      "text/plain": [
       "90.0"
      ]
     },
     "execution_count": 3,
     "metadata": {},
     "output_type": "execute_result"
    }
   ],
   "source": [
    "100 * ((y_pred == y_test).sum() / len(y_test))"
   ]
  },
  {
   "cell_type": "code",
   "execution_count": 4,
   "metadata": {},
   "outputs": [
    {
     "data": {
      "text/plain": [
       "0.9"
      ]
     },
     "execution_count": 4,
     "metadata": {},
     "output_type": "execute_result"
    }
   ],
   "source": [
    "from sklearn.metrics import accuracy_score\n",
    "\n",
    "accuracy_score(y_test, y_pred)"
   ]
  },
  {
   "cell_type": "markdown",
   "metadata": {},
   "source": [
    "## Úkol: \n",
    "\n",
    "Představte si, že máte klasifikovat jablka a hrušky. Máte datovou množinu obsahující 100 kusů ovoce. \n",
    "Klasifikátor má na této množině úspěšnost 90% (90 kusů je klasifikováno správně). Myslíte, že takový \n",
    "klasifikátor je dobrý? "
   ]
  },
  {
   "cell_type": "markdown",
   "metadata": {},
   "source": [
    "**Accuracy** nám dává velmi málo informace. Prozradíme si nyní, že v úkolu \n",
    "s ovocem bylo 90 kusů jablek a 10 kusů hrušek. Klasifikátor, který vše co dostane označuje\n",
    "za jablko má tedy na této množině 90% úspěšnost. Nám je ale k ničemu. "
   ]
  },
  {
   "cell_type": "code",
   "execution_count": 5,
   "metadata": {},
   "outputs": [
    {
     "data": {
      "image/png": "[encoded data removed]",
      "text/plain": [
       "<Figure size 432x288 with 2 Axes>"
      ]
     },
     "metadata": {
      "needs_background": "light"
     },
     "output_type": "display_data"
    }
   ],
   "source": [
    "from sklearn.metrics import plot_confusion_matrix\n",
    "import matplotlib.pyplot as plt \n",
    "%matplotlib inline\n",
    "\n",
    "plot_confusion_matrix(klasifikator,     # naučený klasifikátor\n",
    "                      X_test, y_test,   # data \n",
    "                      display_labels=iris.target_names, # jména tříd [lze vynechat]\n",
    "                      cmap=plt.cm.Blues   # barevná paleta [lze vynechat]\n",
    ");\n"
   ]
  },
  {
   "cell_type": "markdown",
   "metadata": {},
   "source": [
    "TODO: Jak se to jmenuje česky? \n",
    "Matice záměn (**confussion matrix**) nám dává daleko více informace. Na obrázku vidím, \n",
    "kolik vzorků z třídy dané řádkem bylo klasifikováno do třídy dané sloupcem.\n",
    "\n",
    "Tedy v našem případě: Jeden vzor typu Virginica byl oklasifikován chybně jako Versicolor, dva vzory typu Versicolor byly oklasifikovány chybně jako Virginica. "
   ]
  },
  {
   "cell_type": "markdown",
   "metadata": {},
   "source": [
    "Nyní se podíváme na binární klasifikaci (klasifikaci do dvou tříd). Vezměme si data *breast_cancer*, která obsahují\n",
    "pozitivní a negativní rakovinové nálezy. "
   ]
  },
  {
   "cell_type": "code",
   "execution_count": 6,
   "metadata": {},
   "outputs": [
    {
     "data": {
      "text/plain": [
       "0.8811188811188811"
      ]
     },
     "execution_count": 6,
     "metadata": {},
     "output_type": "execute_result"
    }
   ],
   "source": [
    "X, y = datasets.load_breast_cancer(return_X_y=True)\n",
    "X_train, X_test, y_train, y_test = train_test_split(X, y, random_state=0)\n",
    "\n",
    "klasifikator = DecisionTreeClassifier(random_state=0)\n",
    "klasifikator.fit(X_train, y_train)\n",
    "\n",
    "y_pred = klasifikator.predict(X_test)\n",
    "accuracy_score(y_test, y_pred)"
   ]
  },
  {
   "cell_type": "code",
   "execution_count": 7,
   "metadata": {},
   "outputs": [
    {
     "data": {
      "image/png": "[encoded data removed]",
      "text/plain": [
       "<Figure size 432x288 with 2 Axes>"
      ]
     },
     "metadata": {
      "needs_background": "light"
     },
     "output_type": "display_data"
    }
   ],
   "source": [
    "plot_confusion_matrix(klasifikator, X_test, y_test, cmap=plt.cm.Blues);"
   ]
  },
  {
   "cell_type": "markdown",
   "metadata": {},
   "source": [
    "Třídu 0 označujeme jako negativní, třídu 1 jako positivní. Čtrnáct pozitivních vzorků bylo označeno za negativí, \n",
    "takovýmto případům říkáme falešně negativní (**false negative**). Tři negativní vzorky byly označeny jako positivní, \n",
    "ty jsou tzv. falešně positivní (**false possitive**). \n",
    "\n",
    "Počty falešně positivních a falešně negativních případů jsou pro hodnocení úspěšnosti binární klasifikace zásadní. \n",
    "Správně klasifikované vzorky označujeme jako **true possitive** a **true negative**. \n",
    "\n",
    "![ilustrace](static/np.png)"
   ]
  },
  {
   "cell_type": "markdown",
   "metadata": {},
   "source": [
    "Klasifikační metrika známá jako **precision** říká, kolik vzorků označených za pozitivních je opravdu pozitivních. \n",
    "\n",
    "$$ precision = \\frac{TP}{TP+FP} $$\n",
    "\n",
    "TP označuje počet správně označených pozitivních vzorků (**true possitives**) <br>\n",
    "FP označuje počet falešně pozitivních vzorků (**false negatives**) \n",
    "\n",
    "Metrika **recall** říká, kolik pozitivních vzorků bylo podchyceno klasifikátorem (klasifikováno jako pozitivní).\n",
    "\n",
    "$$ recall = \\frac{TP}{TP+FN} $$ \n",
    "\n",
    "FN je počet falešně negativních vzorků (**false negatives**) \n",
    "\n",
    "Nesnaž se vzorečky zapamatovat, zamysli se nad tím, co nám říkají. S tím ti pomůže obrázek výše. "
   ]
  },
  {
   "cell_type": "code",
   "execution_count": 8,
   "metadata": {},
   "outputs": [
    {
     "name": "stdout",
     "output_type": "stream",
     "text": [
      "Precision:  0.9620253164556962\n",
      "Recall:     0.8444444444444444\n"
     ]
    }
   ],
   "source": [
    "from sklearn.metrics import precision_score, recall_score\n",
    "\n",
    "print(\"Precision: \", precision_score(y_test, y_pred))\n",
    "print(\"Recall:    \", recall_score(y_test, y_pred))"
   ]
  },
  {
   "cell_type": "markdown",
   "metadata": {},
   "source": [
    "Zda je pro nás důležitější precision nebo recall, záleží na konkrétní úloze. \n",
    "Někdy vadí více falešně pozitivní případy (příliš mnoho relevantních mailů označených za spam), \n",
    "jindy bude více vadit nezachycený pozitivní případ (neodhalený výskyt nemoci). "
   ]
  },
  {
   "cell_type": "markdown",
   "metadata": {},
   "source": [
    "Další často používanou metrikou je tzv. F1 skóre. Kombinuje precision a recall. \n",
    "\n",
    "$$ F1 = 2 \\frac{precision \\cdot recall}{precision + recall}$$"
   ]
  },
  {
   "cell_type": "code",
   "execution_count": 9,
   "metadata": {},
   "outputs": [
    {
     "name": "stdout",
     "output_type": "stream",
     "text": [
      "F1 skóre:     0.8994082840236687\n"
     ]
    }
   ],
   "source": [
    "from sklearn.metrics import f1_score\n",
    "\n",
    "print(\"F1 skóre:    \", f1_score(y_test, y_pred))"
   ]
  },
  {
   "cell_type": "code",
   "execution_count": null,
   "metadata": {},
   "outputs": [],
   "source": []
  }
 ],
 "metadata": {
  "kernelspec": {
   "display_name": "Python 3",
   "language": "python",
   "name": "python3"
  },
  "language_info": {
   "codemirror_mode": {
    "name": "ipython",
    "version": 3
   },
   "file_extension": ".py",
   "mimetype": "text/x-python",
   "name": "python",
   "nbconvert_exporter": "python",
   "pygments_lexer": "ipython3",
   "version": "3.6.8"
  }
 },
 "nbformat": 4,
 "nbformat_minor": 2
}
