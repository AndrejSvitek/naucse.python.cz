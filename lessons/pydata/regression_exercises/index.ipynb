{
 "cells": [
  {
   "cell_type": "markdown",
   "metadata": {},
   "source": [
    "# Pár příkladů pro vás \n",
    "\n",
    "Následující příklady nejsou na programování. Pouze si popovídáme o tom, jak byste danou situaci pomocí\n",
    "strojového učení řešili. \n",
    "\n",
    "Míč je na vaší straně. Nebojte se navrhnout cokoli vám bude připadat dobré, koučové vás případně usměrní. \n"
   ]
  },
  {
   "cell_type": "markdown",
   "metadata": {},
   "source": [
    "1. **Diabetes**. \n",
    "Prohlédněte si následující náhled dat a navrhněte, jak byste predikovali progresi nemoci u nového pacienta.\n",
    "\n",
    " - Můžete si úlohu převést na úlohu s krajinou, co budou souřadnice a co bude výška krajiny?\n",
    " - Jak budete měřit úspěšnost predikce?\n",
    " - Jak posoudíte, zda se vám úlohu podařilo dostatečně zvládnout?\n",
    " - Jak zajistit, aby vstupy a výstupy modelu byly reálná čísla? \n",
    " \n",
    " ![dataset_preview](static/diabetes.png)\n",
    " \n",
    "<hr>\n",
    "\n",
    "2. **Populace**. Stáhněte si notebook [excercise.ipynb](static/excercise.ipynb),\n",
    " je v něm vypracovaná úloha predikce počtu obyvatel v závislosti \n",
    " na velikosti oblasti/města. Naučený model (*krabička*) ale počet\n",
    " obyvatel často podhodnocuje.\n",
    " Prohlédněte si řešení v notebooku a zkuste přijít na to,\n",
    "   co děláme špatně. \n",
    " \n",
    "<hr>\n",
    "\n",
    "3. **Baseline**. V předchozím úkolu jsme použili jako *baseline* řešení průměr. Napadá tě jiná jednoduchá cesta, jak velikost populace odhadovat?\n",
    " \n",
    "<hr>\n",
    "\n",
    "4. **Časová řada**. Připomeňme si data o počasí z hodiny o EDA:\n",
    " ![dataset_preview](static/data_ruzyne.png)\n",
    "Jak bychom postupovali, pokud bychom chtěli predikovat průměrnou teplotu?\n",
    " \n",
    "<hr>\n",
    "\n",
    "5. **Věk**. Máme nového šéfa. V rámci zefektivnění evidence zaměstnanců chce vytvořit model, který bude pro hodnotu rodného čísla vracet věk. Co bude vstupem a výstupem, jak budeme postupovat?\n",
    " \n",
    "<hr>\n",
    "\n",
    "6. **PyLadies** Máte k dispozici statistiku účastnic PyLadies. Počet splněných úkolů, počty absencí, zda PyLady už pracovala před kurzem s daty. Co potřebujete k tomu, abyste na základě těchto informací byly schopné predikovat pravděpodobnost, že daná účastnice najde po kurzu práci jako datová analytička?\n",
    " \n",
    "<hr>\n",
    "\n",
    "7. **Kategorické proměnné** \n",
    "Chtěli bychom na základě údajů v tabulce predikovat výši platu. Jak si poradíme s kategorickými proměnnými - `rank`, `discipline`?\n",
    "\n",
    " ![dataset_preview](static/salaries.png)\n",
    "\n",
    "<hr>\n",
    "\n",
    "8. **Personalista** Dostali jste hromadu CV uchazečů. Chtěli byste vytvořit model, který na základě údajů ze životopisu navrhne vhodný plat."
   ]
  },
  {
   "cell_type": "code",
   "execution_count": null,
   "metadata": {},
   "outputs": [],
   "source": []
  }
 ],
 "metadata": {
  "kernelspec": {
   "display_name": "Python 3",
   "language": "python",
   "name": "python3"
  },
  "language_info": {
   "codemirror_mode": {
    "name": "ipython",
    "version": 3
   },
   "file_extension": ".py",
   "mimetype": "text/x-python",
   "name": "python",
   "nbconvert_exporter": "python",
   "pygments_lexer": "ipython3",
   "version": "3.6.8"
  }
 },
 "nbformat": 4,
 "nbformat_minor": 2
}
