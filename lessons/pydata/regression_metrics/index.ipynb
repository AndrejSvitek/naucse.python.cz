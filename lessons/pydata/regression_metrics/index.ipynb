{
 "cells": [
  {
   "cell_type": "markdown",
   "metadata": {},
   "source": [
    "# Regresní metriky"
   ]
  },
  {
   "cell_type": "markdown",
   "metadata": {},
   "source": [
    "V úvodním příkladu s krajinou jsme si metriku vymýšleli sami. Existuje \n",
    "samozřejmě řada standardním metrik, které se k hodnocení modelů používají.\n",
    "Uvedeme si přehled nejnámějších z nich:\n",
    "\n",
    "($y = y_1, \\ldots, y_N$ jsou reálné hodnoty odezvy,\n",
    "$\\hat{y} = \\hat{y}_1, \\ldots, \\hat{y}_N$ jsou predikované hodnoty)\n",
    "\n",
    "-  **MSE (Mean squared error)** - průměr sumy čterců odchylek požadovaných výstupů od predikovaných výstupů \n",
    "\n",
    "    $$\n",
    "    MSE(y, \\hat{y}) = \\frac{1}{N} \\sum_{i=1}^N (y_i - \\hat{y}_i)^2 \n",
    "    $$\n",
    "\n",
    "- **MAE (Mean absolute error)** - průměr absolutních hodnot odchylek požadovaných výstupů od predikovaných výstupů \n",
    "\n",
    "    $$\n",
    "    MAE(y, \\hat{y}) = \\frac{1}{N} \\sum_{i=1}^N |y_i - \\hat{y}_i| \n",
    "    $$\n",
    "\n",
    "- **$R^2$ score (Koeficient determinace)** - koeficient determinace vyjadřuje, jaký podíl variability \n",
    " závislé proměnné (odezvy) model vyjadřuje. Dá se interpretovat tak, že říká, jak moc je náš model lepší než\n",
    " konstantní *baseline* daná jako průměr. \n",
    "$$\n",
    " R^2(y, \\hat{y}) = 1 - \\frac{MSE(model)}{MSE(baseline)} = 1 - \\frac{MSE(y, \\hat{y})}{MSE(y, \\bar{y})}; \n",
    " \\qquad \\mbox{kde}\\quad \\bar{y} = \\frac{1}{N} \\sum_{i=1}^N y_i\n",
    "$$\n",
    "$R^2$ skóre dosahuje maximálně hodnoty jedna, což znamená dokonalou predikci. "
   ]
  },
  {
   "cell_type": "code",
   "execution_count": null,
   "metadata": {},
   "outputs": [],
   "source": []
  },
  {
   "cell_type": "code",
   "execution_count": null,
   "metadata": {},
   "outputs": [],
   "source": []
  }
 ],
 "metadata": {
  "kernelspec": {
   "display_name": "Python 3",
   "language": "python",
   "name": "python3"
  },
  "language_info": {
   "codemirror_mode": {
    "name": "ipython",
    "version": 3
   },
   "file_extension": ".py",
   "mimetype": "text/x-python",
   "name": "python",
   "nbconvert_exporter": "python",
   "pygments_lexer": "ipython3",
   "version": "3.6.8"
  }
 },
 "nbformat": 4,
 "nbformat_minor": 2
}
